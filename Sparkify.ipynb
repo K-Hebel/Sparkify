{
 "cells": [
  {
   "cell_type": "markdown",
   "metadata": {},
   "source": [
    "# Sparkify Project Workspace\n",
    "This workspace contains a tiny subset (128MB) of the full dataset available (12GB). Feel free to use this workspace to build your project, or to explore a smaller subset with Spark before deploying your cluster on the cloud. Instructions for setting up your Spark cluster is included in the last lesson of the Extracurricular Spark Course content.\n",
    "\n",
    "You can follow the steps below to guide your data analysis and model building portion of this project."
   ]
  },
  {
   "cell_type": "code",
   "execution_count": 1,
   "metadata": {},
   "outputs": [],
   "source": [
    "# import libraries\n",
    "from pyspark.sql import SparkSession\n",
    "from pyspark.sql.types import IntegerType, DateType\n",
    "from pyspark.sql.functions import udf , desc, asc, countDistinct, avg, col, to_date, to_timestamp, from_unixtime, desc, datediff\n",
    "from pyspark.sql.functions import sum as Fsum\n",
    "from pyspark.sql import Window\n",
    "import numpy as np\n",
    "import pandas as pd\n",
    "import datetime\n",
    "import matplotlib.pyplot as plt"
   ]
  },
  {
   "cell_type": "code",
   "execution_count": 2,
   "metadata": {},
   "outputs": [],
   "source": [
    "# create a Spark session\n",
    "spark = SparkSession\\\n",
    "        .builder\\\n",
    "        .appName('Data_Sci_Capstone')\\\n",
    "        .getOrCreate()"
   ]
  },
  {
   "cell_type": "markdown",
   "metadata": {},
   "source": [
    "# Load and Clean Dataset\n",
    "In this workspace, the mini-dataset file is `mini_sparkify_event_data.json`. Load and clean the dataset, checking for invalid or missing data - for example, records without userids or sessionids. "
   ]
  },
  {
   "cell_type": "code",
   "execution_count": 3,
   "metadata": {},
   "outputs": [],
   "source": [
    "#Read in json file\n",
    "mini_sparkify = spark.read.json('mini_sparkify_event_data.json')"
   ]
  },
  {
   "cell_type": "code",
   "execution_count": 4,
   "metadata": {},
   "outputs": [
    {
     "name": "stdout",
     "output_type": "stream",
     "text": [
      "root\n",
      " |-- artist: string (nullable = true)\n",
      " |-- auth: string (nullable = true)\n",
      " |-- firstName: string (nullable = true)\n",
      " |-- gender: string (nullable = true)\n",
      " |-- itemInSession: long (nullable = true)\n",
      " |-- lastName: string (nullable = true)\n",
      " |-- length: double (nullable = true)\n",
      " |-- level: string (nullable = true)\n",
      " |-- location: string (nullable = true)\n",
      " |-- method: string (nullable = true)\n",
      " |-- page: string (nullable = true)\n",
      " |-- registration: long (nullable = true)\n",
      " |-- sessionId: long (nullable = true)\n",
      " |-- song: string (nullable = true)\n",
      " |-- status: long (nullable = true)\n",
      " |-- ts: long (nullable = true)\n",
      " |-- userAgent: string (nullable = true)\n",
      " |-- userId: string (nullable = true)\n",
      "\n"
     ]
    }
   ],
   "source": [
    "#Review file schema (column labels)\n",
    "mini_sparkify.printSchema()"
   ]
  },
  {
   "cell_type": "code",
   "execution_count": 5,
   "metadata": {},
   "outputs": [
    {
     "name": "stdout",
     "output_type": "stream",
     "text": [
      "+--------------+---------+---------+------+-------------+--------+---------+-----+---------------+------+--------+-------------+---------+---------+------+-------------+--------------------+------+\n",
      "|        artist|     auth|firstName|gender|itemInSession|lastName|   length|level|       location|method|    page| registration|sessionId|     song|status|           ts|           userAgent|userId|\n",
      "+--------------+---------+---------+------+-------------+--------+---------+-----+---------------+------+--------+-------------+---------+---------+------+-------------+--------------------+------+\n",
      "|Martha Tilston|Logged In|    Colin|     M|           50| Freeman|277.89016| paid|Bakersfield, CA|   PUT|NextSong|1538173362000|       29|Rockpools|   200|1538352117000|Mozilla/5.0 (Wind...|    30|\n",
      "+--------------+---------+---------+------+-------------+--------+---------+-----+---------------+------+--------+-------------+---------+---------+------+-------------+--------------------+------+\n",
      "only showing top 1 row\n",
      "\n"
     ]
    }
   ],
   "source": [
    "mini_sparkify.show(1)"
   ]
  },
  {
   "cell_type": "code",
   "execution_count": 6,
   "metadata": {},
   "outputs": [
    {
     "data": {
      "text/plain": [
       "286500"
      ]
     },
     "execution_count": 6,
     "metadata": {},
     "output_type": "execute_result"
    }
   ],
   "source": [
    "mini_sparkify.count()"
   ]
  },
  {
   "cell_type": "code",
   "execution_count": 7,
   "metadata": {},
   "outputs": [],
   "source": [
    "#Check for missing data in userId and sessionId labels\n",
    "mini_valid = mini_sparkify.dropna(how='all', subset=['userId', 'sessionId'])"
   ]
  },
  {
   "cell_type": "code",
   "execution_count": 8,
   "metadata": {},
   "outputs": [
    {
     "name": "stdout",
     "output_type": "stream",
     "text": [
      "+-----+----------------------+\n",
      "|level|count(DISTINCT userId)|\n",
      "+-----+----------------------+\n",
      "| free|                   196|\n",
      "| paid|                   166|\n",
      "+-----+----------------------+\n",
      "\n"
     ]
    }
   ],
   "source": [
    "#Identify invalid userId inputs\n",
    "mini_valid.groupby('level').agg(countDistinct('userId')).show()\n"
   ]
  },
  {
   "cell_type": "code",
   "execution_count": 9,
   "metadata": {},
   "outputs": [
    {
     "data": {
      "text/plain": [
       "278154"
      ]
     },
     "execution_count": 9,
     "metadata": {},
     "output_type": "execute_result"
    }
   ],
   "source": [
    "#Drop invalid userId inputs from dataset\n",
    "mini_valid=mini_valid.filter(mini_valid['userId'] != '')\n",
    "mini_valid.count()"
   ]
  },
  {
   "cell_type": "code",
   "execution_count": 10,
   "metadata": {},
   "outputs": [
    {
     "name": "stdout",
     "output_type": "stream",
     "text": [
      "+-------+------------------+\n",
      "|summary|     itemInSession|\n",
      "+-------+------------------+\n",
      "|  count|            278154|\n",
      "|   mean|114.89918174824018|\n",
      "| stddev|  129.851729399489|\n",
      "|    min|                 0|\n",
      "|    max|              1321|\n",
      "+-------+------------------+\n",
      "\n",
      "+-------------+-----+\n",
      "|itemInSession|count|\n",
      "+-------------+-----+\n",
      "|            2| 2941|\n",
      "|            3| 2917|\n",
      "|            4| 2887|\n",
      "|            5| 2836|\n",
      "|            1| 2818|\n",
      "|            6| 2803|\n",
      "|            7| 2776|\n",
      "|            8| 2735|\n",
      "|            9| 2693|\n",
      "|            0| 2689|\n",
      "|           10| 2633|\n",
      "|           11| 2596|\n",
      "|           12| 2556|\n",
      "|           13| 2513|\n",
      "|           14| 2485|\n",
      "|           15| 2456|\n",
      "|           16| 2428|\n",
      "|           17| 2385|\n",
      "|           18| 2345|\n",
      "|           19| 2322|\n",
      "+-------------+-----+\n",
      "only showing top 20 rows\n",
      "\n"
     ]
    }
   ],
   "source": [
    "#Identify invalid sessionId inputs\n",
    "mini_valid.describe('itemInSession').show()\n",
    "mini_valid.groupBy('itemInSession').count().orderBy(col('count').desc()).show()"
   ]
  },
  {
   "cell_type": "code",
   "execution_count": 11,
   "metadata": {},
   "outputs": [
    {
     "name": "stdout",
     "output_type": "stream",
     "text": [
      "+--------------------+----------------------+\n",
      "|                page|count(DISTINCT artist)|\n",
      "+--------------------+----------------------+\n",
      "|              Cancel|                     0|\n",
      "|    Submit Downgrade|                     0|\n",
      "|         Thumbs Down|                     0|\n",
      "|                Home|                     0|\n",
      "|           Downgrade|                     0|\n",
      "|         Roll Advert|                     0|\n",
      "|              Logout|                     0|\n",
      "|       Save Settings|                     0|\n",
      "|Cancellation Conf...|                     0|\n",
      "|               About|                     0|\n",
      "|            Settings|                     0|\n",
      "|     Add to Playlist|                     0|\n",
      "|          Add Friend|                     0|\n",
      "|            NextSong|                 17655|\n",
      "|           Thumbs Up|                     0|\n",
      "|                Help|                     0|\n",
      "|             Upgrade|                     0|\n",
      "|               Error|                     0|\n",
      "|      Submit Upgrade|                     0|\n",
      "+--------------------+----------------------+\n",
      "\n"
     ]
    }
   ],
   "source": [
    "#View artist label description\n",
    "mini_valid.groupBy('page').agg(countDistinct('artist')).show()"
   ]
  },
  {
   "cell_type": "code",
   "execution_count": 12,
   "metadata": {},
   "outputs": [
    {
     "name": "stdout",
     "output_type": "stream",
     "text": [
      "+-----+---------+\n",
      "|level|     auth|\n",
      "+-----+---------+\n",
      "| paid|Cancelled|\n",
      "| free|Logged In|\n",
      "| free|Cancelled|\n",
      "| paid|Logged In|\n",
      "+-----+---------+\n",
      "\n"
     ]
    }
   ],
   "source": [
    "mini_valid.select('level','auth').dropDuplicates().show()"
   ]
  },
  {
   "cell_type": "code",
   "execution_count": 13,
   "metadata": {},
   "outputs": [
    {
     "name": "stdout",
     "output_type": "stream",
     "text": [
      "+------+\n",
      "|status|\n",
      "+------+\n",
      "|   307|\n",
      "|   404|\n",
      "|   200|\n",
      "+------+\n",
      "\n"
     ]
    }
   ],
   "source": [
    "mini_valid.select('status').dropDuplicates().show()"
   ]
  },
  {
   "cell_type": "code",
   "execution_count": 14,
   "metadata": {},
   "outputs": [
    {
     "name": "stdout",
     "output_type": "stream",
     "text": [
      "+--------------------+\n",
      "|                page|\n",
      "+--------------------+\n",
      "|              Cancel|\n",
      "|    Submit Downgrade|\n",
      "|         Thumbs Down|\n",
      "|                Home|\n",
      "|           Downgrade|\n",
      "|         Roll Advert|\n",
      "|              Logout|\n",
      "|       Save Settings|\n",
      "|Cancellation Conf...|\n",
      "|               About|\n",
      "|            Settings|\n",
      "|     Add to Playlist|\n",
      "|          Add Friend|\n",
      "|            NextSong|\n",
      "|           Thumbs Up|\n",
      "|                Help|\n",
      "|             Upgrade|\n",
      "|               Error|\n",
      "|      Submit Upgrade|\n",
      "+--------------------+\n",
      "\n"
     ]
    }
   ],
   "source": [
    "mini_valid.select('page').dropDuplicates().show()"
   ]
  },
  {
   "cell_type": "markdown",
   "metadata": {},
   "source": [
    "# Exploratory Data Analysis\n",
    "When you're working with the full dataset, perform EDA by loading a small subset of the data and doing basic manipulations within Spark. In this workspace, you are already provided a small subset of data you can explore.\n",
    "\n",
    "### Define Churn\n",
    "\n",
    "Once you've done some preliminary analysis, create a column `Churn` to use as the label for your model. I suggest using the `Cancellation Confirmation` events to define your churn, which happen for both paid and free users. As a bonus task, you can also look into the `Downgrade` events.\n",
    "\n",
    "### Explore Data\n",
    "Once you've defined churn, perform some exploratory data analysis to observe the behavior for users who stayed vs users who churned. You can start by exploring aggregates on these two groups of users, observing how much of a specific action they experienced per a certain time unit or number of songs played."
   ]
  },
  {
   "cell_type": "code",
   "execution_count": 15,
   "metadata": {},
   "outputs": [],
   "source": [
    "#set up function to identify cancellation/churn event\n",
    "flag_churn = udf(lambda page: int((page == 'Cancellation Confirmation') ), IntegerType())"
   ]
  },
  {
   "cell_type": "code",
   "execution_count": 16,
   "metadata": {},
   "outputs": [],
   "source": [
    "# add churn column to dataset to flag a cancellation event\n",
    "mini_valid= mini_valid.withColumn('churn', flag_churn('page'))"
   ]
  },
  {
   "cell_type": "code",
   "execution_count": 17,
   "metadata": {},
   "outputs": [],
   "source": [
    "windowval = Window.partitionBy('userId').orderBy(desc('ts')).rangeBetween(Window.unboundedPreceding, 0)"
   ]
  },
  {
   "cell_type": "code",
   "execution_count": 18,
   "metadata": {},
   "outputs": [],
   "source": [
    "# add phase column to identify churn vs no-churn users\n",
    "mini_valid=mini_valid.withColumn('phase', Fsum('churn').over(windowval))"
   ]
  },
  {
   "cell_type": "code",
   "execution_count": 19,
   "metadata": {},
   "outputs": [
    {
     "name": "stdout",
     "output_type": "stream",
     "text": [
      "+-----+----------------------+\n",
      "|phase|count(DISTINCT userId)|\n",
      "+-----+----------------------+\n",
      "|    0|                   173|\n",
      "|    1|                    52|\n",
      "+-----+----------------------+\n",
      "\n"
     ]
    }
   ],
   "source": [
    "#the number of churn users in the dataset compared to no_churn users\n",
    "mini_valid.select('userId', 'phase')\\\n",
    "            .groupby('phase')\\\n",
    "            .agg(countDistinct('userId')).show()"
   ]
  },
  {
   "cell_type": "code",
   "execution_count": 20,
   "metadata": {},
   "outputs": [
    {
     "name": "stdout",
     "output_type": "stream",
     "text": [
      "+-----+----------------------+\n",
      "|level|count(DISTINCT userId)|\n",
      "+-----+----------------------+\n",
      "| free|                    46|\n",
      "| paid|                    36|\n",
      "+-----+----------------------+\n",
      "\n"
     ]
    }
   ],
   "source": [
    "#count of churn users by level in dataset\n",
    "mini_valid.filter(mini_valid.phase ==1)\\\n",
    "            .select('userId', 'level')\\\n",
    "            .groupby('level')\\\n",
    "            .agg(countDistinct('userId')).show()"
   ]
  },
  {
   "cell_type": "markdown",
   "metadata": {},
   "source": [
    "### The stats above indicate that there is some overlap between free and paid users.  To investigate further, let's look at the number of downgrades (from paid to free) in the churn group"
   ]
  },
  {
   "cell_type": "code",
   "execution_count": 21,
   "metadata": {},
   "outputs": [
    {
     "name": "stdout",
     "output_type": "stream",
     "text": [
      "+---------+----------------------+\n",
      "|     page|count(DISTINCT userId)|\n",
      "+---------+----------------------+\n",
      "|Downgrade|                    35|\n",
      "+---------+----------------------+\n",
      "\n"
     ]
    }
   ],
   "source": [
    "#Downgrades in churn group\n",
    "mini_valid.filter(mini_valid.phase ==1)\\\n",
    "            .filter(mini_valid.page == 'Downgrade')\\\n",
    "            .groupby( 'page')\\\n",
    "            .agg(countDistinct('userId')).show()"
   ]
  },
  {
   "cell_type": "code",
   "execution_count": 22,
   "metadata": {},
   "outputs": [
    {
     "name": "stdout",
     "output_type": "stream",
     "text": [
      "+---------+----------------------+\n",
      "|     page|count(DISTINCT userId)|\n",
      "+---------+----------------------+\n",
      "|Downgrade|                   119|\n",
      "+---------+----------------------+\n",
      "\n"
     ]
    }
   ],
   "source": [
    "#Downgrades in no churn group\n",
    "mini_valid.filter(mini_valid.phase ==0)\\\n",
    "            .filter(mini_valid.page == 'Downgrade')\\\n",
    "            .groupby( 'page')\\\n",
    "            .agg(countDistinct('userId')).show()"
   ]
  },
  {
   "cell_type": "markdown",
   "metadata": {},
   "source": [
    "### Other features of churn group"
   ]
  },
  {
   "cell_type": "code",
   "execution_count": 23,
   "metadata": {},
   "outputs": [
    {
     "name": "stdout",
     "output_type": "stream",
     "text": [
      "+------+----------------------+\n",
      "|gender|count(DISTINCT userId)|\n",
      "+------+----------------------+\n",
      "|     F|                    20|\n",
      "|     M|                    32|\n",
      "+------+----------------------+\n",
      "\n"
     ]
    }
   ],
   "source": [
    "#count of churn users by level in dataset\n",
    "mini_valid.filter(mini_valid.phase ==1)\\\n",
    "            .select('userId', 'gender')\\\n",
    "            .groupby( 'gender')\\\n",
    "            .agg(countDistinct('userId')).show()"
   ]
  },
  {
   "cell_type": "code",
   "execution_count": 24,
   "metadata": {},
   "outputs": [
    {
     "name": "stdout",
     "output_type": "stream",
     "text": [
      "+-----+----------------------+\n",
      "|level|count(DISTINCT userId)|\n",
      "+-----+----------------------+\n",
      "| free|                   149|\n",
      "| paid|                   129|\n",
      "+-----+----------------------+\n",
      "\n"
     ]
    }
   ],
   "source": [
    "#count of no_churn users level in dataset\n",
    "mini_valid.filter(mini_valid.phase ==0)\\\n",
    "            .select('userId', 'level')\\\n",
    "            .groupby('level')\\\n",
    "            .agg(countDistinct('userId')).show()"
   ]
  },
  {
   "cell_type": "code",
   "execution_count": 25,
   "metadata": {},
   "outputs": [
    {
     "name": "stdout",
     "output_type": "stream",
     "text": [
      "+------+----------------------+\n",
      "|gender|count(DISTINCT userId)|\n",
      "+------+----------------------+\n",
      "|     F|                    84|\n",
      "|     M|                    89|\n",
      "+------+----------------------+\n",
      "\n"
     ]
    }
   ],
   "source": [
    "#count of no_churn users by level in dataset\n",
    "mini_valid.filter(mini_valid.phase ==0)\\\n",
    "            .select('userId', 'gender')\\\n",
    "            .groupby( 'gender')\\\n",
    "            .agg(countDistinct('userId')).show()"
   ]
  },
  {
   "cell_type": "markdown",
   "metadata": {},
   "source": [
    "## Create datetime categories to run analysis"
   ]
  },
  {
   "cell_type": "code",
   "execution_count": 26,
   "metadata": {},
   "outputs": [],
   "source": [
    "#Convert timestamp to datetime date\n",
    "get_date = udf(lambda x: datetime.datetime.fromtimestamp(x / 1000.0).strftime('%Y-%m-%d'))"
   ]
  },
  {
   "cell_type": "code",
   "execution_count": 27,
   "metadata": {},
   "outputs": [],
   "source": [
    "get_hour = udf(lambda x: datetime.datetime.fromtimestamp(x / 1000.0). hour)"
   ]
  },
  {
   "cell_type": "code",
   "execution_count": 28,
   "metadata": {},
   "outputs": [],
   "source": [
    "get_day = udf(lambda x: datetime.datetime.fromtimestamp(x / 1000.0). day)"
   ]
  },
  {
   "cell_type": "code",
   "execution_count": 29,
   "metadata": {},
   "outputs": [],
   "source": [
    "get_month = udf(lambda x: datetime.datetime.fromtimestamp(x / 1000.0). month)"
   ]
  },
  {
   "cell_type": "code",
   "execution_count": 30,
   "metadata": {},
   "outputs": [],
   "source": [
    "mini_valid = mini_valid.withColumn('hour', get_hour('ts').cast(IntegerType()))\\\n",
    "            .withColumn('day', get_day('ts').cast(IntegerType()))\\\n",
    "            .withColumn('month', get_month('ts').cast(IntegerType()))\\\n",
    "            .withColumn('date', get_date('ts').cast(DateType()))"
   ]
  },
  {
   "cell_type": "code",
   "execution_count": 31,
   "metadata": {},
   "outputs": [
    {
     "name": "stdout",
     "output_type": "stream",
     "text": [
      "root\n",
      " |-- artist: string (nullable = true)\n",
      " |-- auth: string (nullable = true)\n",
      " |-- firstName: string (nullable = true)\n",
      " |-- gender: string (nullable = true)\n",
      " |-- itemInSession: long (nullable = true)\n",
      " |-- lastName: string (nullable = true)\n",
      " |-- length: double (nullable = true)\n",
      " |-- level: string (nullable = true)\n",
      " |-- location: string (nullable = true)\n",
      " |-- method: string (nullable = true)\n",
      " |-- page: string (nullable = true)\n",
      " |-- registration: long (nullable = true)\n",
      " |-- sessionId: long (nullable = true)\n",
      " |-- song: string (nullable = true)\n",
      " |-- status: long (nullable = true)\n",
      " |-- ts: long (nullable = true)\n",
      " |-- userAgent: string (nullable = true)\n",
      " |-- userId: string (nullable = true)\n",
      " |-- churn: integer (nullable = true)\n",
      " |-- phase: long (nullable = true)\n",
      " |-- hour: integer (nullable = true)\n",
      " |-- day: integer (nullable = true)\n",
      " |-- month: integer (nullable = true)\n",
      " |-- date: date (nullable = true)\n",
      "\n"
     ]
    }
   ],
   "source": [
    "mini_valid.printSchema()"
   ]
  },
  {
   "cell_type": "code",
   "execution_count": 32,
   "metadata": {},
   "outputs": [
    {
     "name": "stdout",
     "output_type": "stream",
     "text": [
      "+-----+\n",
      "|month|\n",
      "+-----+\n",
      "|   10|\n",
      "|   11|\n",
      "|   12|\n",
      "+-----+\n",
      "\n"
     ]
    }
   ],
   "source": [
    "mini_valid.select('month').dropDuplicates().orderBy(mini_valid.month).show()"
   ]
  },
  {
   "cell_type": "markdown",
   "metadata": {},
   "source": [
    "## Churn Analysis "
   ]
  },
  {
   "cell_type": "code",
   "execution_count": 33,
   "metadata": {},
   "outputs": [],
   "source": [
    "#dataset of churn users\n",
    "churn_pop=mini_valid.filter(mini_valid.phase == 1)\\\n",
    "            .select('userId', 'level','page', 'churn', 'phase', 'ts','date' ,'day','hour','month', 'itemInSession')"
   ]
  },
  {
   "cell_type": "code",
   "execution_count": 34,
   "metadata": {},
   "outputs": [],
   "source": [
    "#dataset of no_churn users\n",
    "no_churn_pop=mini_valid.filter(mini_valid.phase == 0)\\\n",
    "            .select('userId', 'level','page', 'churn', 'phase','ts', 'date', 'day','hour','month','itemInSession')"
   ]
  },
  {
   "cell_type": "code",
   "execution_count": 35,
   "metadata": {},
   "outputs": [
    {
     "name": "stdout",
     "output_type": "stream",
     "text": [
      "+-----------------+\n",
      "| avg(count(page))|\n",
      "+-----------------+\n",
      "|699.8846153846154|\n",
      "+-----------------+\n",
      "\n"
     ]
    }
   ],
   "source": [
    "#Calculate the average number of songs listened to before churn per user\n",
    "songs_per_churnUser= churn_pop.filter(churn_pop.page == 'NextSong')\\\n",
    "                    .select('userId', 'level', 'page')\\\n",
    "                    .groupBy('userId')\\\n",
    "                    .agg({'page':'count'})\\\n",
    "                    .agg({'count(page)': 'avg'}).show()\n"
   ]
  },
  {
   "cell_type": "code",
   "execution_count": 36,
   "metadata": {},
   "outputs": [
    {
     "name": "stdout",
     "output_type": "stream",
     "text": [
      "+------------------+\n",
      "|  avg(count(page))|\n",
      "+------------------+\n",
      "|1108.1734104046243|\n",
      "+------------------+\n",
      "\n"
     ]
    }
   ],
   "source": [
    "#Calculate the average number of songs listened to per no_churn user\n",
    "songs_per_user= no_churn_pop.filter(churn_pop.page == 'NextSong')\\\n",
    "                    .select('userId', 'level', 'page')\\\n",
    "                    .groupBy('userId')\\\n",
    "                    .agg({'page':'count'})\\\n",
    "                    .agg({'count(page)': 'avg'}).show()\n"
   ]
  },
  {
   "cell_type": "markdown",
   "metadata": {},
   "source": [
    "## Graph of total songs Played per hour for churn vs no-churn users"
   ]
  },
  {
   "cell_type": "code",
   "execution_count": 37,
   "metadata": {},
   "outputs": [],
   "source": [
    "songs_per_churnHour = churn_pop.filter(churn_pop.page =='NextSong')\\\n",
    "                        .groupBy(churn_pop.hour)\\\n",
    "                        .count()\\\n",
    "                        .orderBy(churn_pop.hour)"
   ]
  },
  {
   "cell_type": "code",
   "execution_count": 38,
   "metadata": {},
   "outputs": [],
   "source": [
    "songs_per_no_churnHour = no_churn_pop.filter(no_churn_pop.page =='NextSong')\\\n",
    "                        .groupBy('hour')\\\n",
    "                        .count()\\\n",
    "                        .orderBy(no_churn_pop.hour)"
   ]
  },
  {
   "cell_type": "code",
   "execution_count": 39,
   "metadata": {},
   "outputs": [],
   "source": [
    "#Preparing the dataset for plotting\n",
    "songs_churnHour_df = songs_per_churnHour.toPandas()\n",
    "songs_no_churnHour_df = songs_per_no_churnHour.toPandas()"
   ]
  },
  {
   "cell_type": "code",
   "execution_count": 40,
   "metadata": {},
   "outputs": [
    {
     "data": {
      "image/png": "[encoded data removed]",
      "text/plain": [
       "<matplotlib.figure.Figure at 0x7fa409e98588>"
      ]
     },
     "metadata": {
      "needs_background": "light"
     },
     "output_type": "display_data"
    }
   ],
   "source": [
    "hours = songs_churnHour_df.hour\n",
    "no_churn_songs = songs_no_churnHour_df['count']\n",
    "churn_songs =songs_churnHour_df['count']\n",
    "\n",
    "plt.plot(hours, churn_songs),#Churn group represented by line\n",
    "plt.plot(hours, no_churn_songs) #No churn group represented by scatter plot\n",
    "plt.xlim(-1, 24);\n",
    "plt.ylim(0, 1.2 * max(no_churn_songs))\n",
    "plt.xlabel(\"Hour\")\n",
    "plt.ylabel(\"Total Songs Played\")\n",
    "plt.legend(['Churn', 'No_Churn']);"
   ]
  },
  {
   "cell_type": "markdown",
   "metadata": {},
   "source": [
    "## Average songs Played per user per hour for churn vs no churn users"
   ]
  },
  {
   "cell_type": "code",
   "execution_count": 41,
   "metadata": {},
   "outputs": [],
   "source": [
    "#Calculate the average number of songs per user per hour for churn\n",
    "avg_songs_churnUser= churn_pop.filter(churn_pop.page == 'NextSong')\\\n",
    "                    .select('userId','date',  'hour', 'page')\\\n",
    "                    .groupBy('userId', 'date', 'hour')\\\n",
    "                    .agg({'page':'count'})\\\n",
    "                    .groupBy('userId','hour')\\\n",
    "                    .agg({'count(page)':'avg'})\\\n",
    "                    .groupBy('hour')\\\n",
    "                    .agg({'avg(count(page))': 'avg'})\\\n",
    "                    .orderBy('hour')\n",
    "                    \n",
    "                    "
   ]
  },
  {
   "cell_type": "code",
   "execution_count": 42,
   "metadata": {},
   "outputs": [
    {
     "name": "stdout",
     "output_type": "stream",
     "text": [
      "+----+---------------------+\n",
      "|hour|avg(avg(count(page)))|\n",
      "+----+---------------------+\n",
      "|   0|   10.735912698412697|\n",
      "|   1|   10.816071428571432|\n",
      "+----+---------------------+\n",
      "only showing top 2 rows\n",
      "\n"
     ]
    }
   ],
   "source": [
    "avg_songs_churnUser.show(2)"
   ]
  },
  {
   "cell_type": "code",
   "execution_count": 44,
   "metadata": {},
   "outputs": [],
   "source": [
    "#Calculate the average number of songs per user per hour for no churn users\n",
    "avg_songs_no_churnUser= no_churn_pop.filter(no_churn_pop.page == 'NextSong')\\\n",
    "                    .select('userId','date',  'hour', 'page')\\\n",
    "                    .groupBy('userId', 'date', 'hour')\\\n",
    "                    .agg({'page':'count'})\\\n",
    "                    .groupBy('userId','hour')\\\n",
    "                    .agg({'count(page)':'avg'})\\\n",
    "                    .groupBy('hour')\\\n",
    "                    .agg({'avg(count(page))': 'avg'})\\\n",
    "                    .orderBy('hour')\n",
    "                    \n",
    "                    "
   ]
  },
  {
   "cell_type": "code",
   "execution_count": 46,
   "metadata": {},
   "outputs": [
    {
     "name": "stdout",
     "output_type": "stream",
     "text": [
      "+----+---------------------+\n",
      "|hour|avg(avg(count(page)))|\n",
      "+----+---------------------+\n",
      "|   0|   12.437618403494312|\n",
      "|   1|    12.08318004459309|\n",
      "+----+---------------------+\n",
      "only showing top 2 rows\n",
      "\n"
     ]
    }
   ],
   "source": [
    "avg_songs_no_churnUser.show(2)"
   ]
  },
  {
   "cell_type": "code",
   "execution_count": 47,
   "metadata": {},
   "outputs": [],
   "source": [
    "#Prepping dataset for plotting\n",
    "avg_songs_churnUser_df = avg_songs_churnUser.toPandas()\n",
    "avg_songs_churnUser_df.columns = ['hour', 'num_songs']\n",
    "avg_songs_no_churnUser_df = avg_songs_no_churnUser.toPandas()\n",
    "avg_songs_no_churnUser_df.columns = ['hour', 'num_songs']"
   ]
  },
  {
   "cell_type": "code",
   "execution_count": 48,
   "metadata": {},
   "outputs": [
    {
     "data": {
      "image/png": "[encoded data removed]",
      "text/plain": [
       "<matplotlib.figure.Figure at 0x7fa409da9c88>"
      ]
     },
     "metadata": {
      "needs_background": "light"
     },
     "output_type": "display_data"
    }
   ],
   "source": [
    "avg_hours = avg_songs_churnUser_df.hour\n",
    "avg_no_churn_songs = avg_songs_no_churnUser_df['num_songs']\n",
    "avg_churn_songs =avg_songs_churnUser_df['num_songs']\n",
    "\n",
    "plt.plot(avg_hours, avg_churn_songs),#Churn group represented by line\n",
    "plt.plot(avg_hours, avg_no_churn_songs) #No churn group represented by scatter plot\n",
    "plt.xlim(-1, 24);\n",
    "plt.ylim(0, 1.2 * max(avg_no_churn_songs))\n",
    "plt.xlabel(\"Hour\")\n",
    "plt.ylabel(\"Average Songs Played Per User per Hour\")\n",
    "plt.legend(['Churn', 'No_Churn']);"
   ]
  },
  {
   "cell_type": "markdown",
   "metadata": {},
   "source": [
    "## Graph of  Average Number of Songs Played per Day for churn vs no_churn groups"
   ]
  },
  {
   "cell_type": "code",
   "execution_count": 49,
   "metadata": {},
   "outputs": [],
   "source": [
    "#Calculate the average number of songs per user per day for no churn users\n",
    "day_songs_churnUser= churn_pop.filter(churn_pop.page == 'NextSong')\\\n",
    "                    .select('userId', 'date','day', 'page')\\\n",
    "                    .groupBy('date','day', 'userId')\\\n",
    "                    .agg({'page':'count'})\\\n",
    "                    .groupBy('day', 'userId')\\\n",
    "                    .agg({'count(page)':'avg'})\\\n",
    "                    .groupBy('day')\\\n",
    "                    .agg({'avg(count(page))': 'avg'})\\\n",
    "                    .orderBy('day')\n"
   ]
  },
  {
   "cell_type": "code",
   "execution_count": 50,
   "metadata": {},
   "outputs": [],
   "source": [
    "#Calculate the average number of songs per user per day for no churn users\n",
    "day_songs_no_churnUser= no_churn_pop.filter(no_churn_pop.page == 'NextSong')\\\n",
    "                    .select('userId', 'date','day', 'page')\\\n",
    "                    .groupBy('date','day', 'userId')\\\n",
    "                    .agg({'page':'count'})\\\n",
    "                    .groupBy('day', 'userId')\\\n",
    "                    .agg({'count(page)':'avg'})\\\n",
    "                    .groupBy('day')\\\n",
    "                    .agg({'avg(count(page))': 'avg'})\\\n",
    "                    .orderBy('day')"
   ]
  },
  {
   "cell_type": "code",
   "execution_count": 51,
   "metadata": {},
   "outputs": [
    {
     "name": "stdout",
     "output_type": "stream",
     "text": [
      "+---+---------------------+\n",
      "|day|avg(avg(count(page)))|\n",
      "+---+---------------------+\n",
      "|  1|    56.47727272727273|\n",
      "|  2|    69.35416666666667|\n",
      "+---+---------------------+\n",
      "only showing top 2 rows\n",
      "\n"
     ]
    }
   ],
   "source": [
    "day_songs_churnUser.show(2)"
   ]
  },
  {
   "cell_type": "code",
   "execution_count": 52,
   "metadata": {},
   "outputs": [
    {
     "name": "stdout",
     "output_type": "stream",
     "text": [
      "+---+---------------------+\n",
      "|day|avg(avg(count(page)))|\n",
      "+---+---------------------+\n",
      "|  1|    72.28270042194093|\n",
      "|  2|    80.66197183098592|\n",
      "+---+---------------------+\n",
      "only showing top 2 rows\n",
      "\n"
     ]
    }
   ],
   "source": [
    "day_songs_no_churnUser.show(2)"
   ]
  },
  {
   "cell_type": "code",
   "execution_count": 53,
   "metadata": {},
   "outputs": [],
   "source": [
    "#Prepping dataset for plotting\n",
    "day_songs_churnUser_df = day_songs_churnUser.toPandas()\n",
    "day_songs_churnUser_df.columns= ['day', 'songs_per_day']\n",
    "day_songs_no_churnUser_df = day_songs_no_churnUser.toPandas()\n",
    "day_songs_no_churnUser_df.columns= ['day', 'songs_per_day']"
   ]
  },
  {
   "cell_type": "code",
   "execution_count": 54,
   "metadata": {},
   "outputs": [
    {
     "data": {
      "image/png": "[encoded data removed]",
      "text/plain": [
       "<matplotlib.figure.Figure at 0x7fa409e0ba58>"
      ]
     },
     "metadata": {
      "needs_background": "light"
     },
     "output_type": "display_data"
    }
   ],
   "source": [
    "days = day_songs_churnUser_df.day\n",
    "day_no_churn_songs = day_songs_no_churnUser_df['songs_per_day']\n",
    "day_churn_songs =day_songs_churnUser_df['songs_per_day']\n",
    "\n",
    "plt.plot(days, day_churn_songs),#Churn group represented by line\n",
    "plt.plot(days, day_no_churn_songs) #No churn group represented by scatter plot\n",
    "plt.xlim(-1, 32);\n",
    "plt.ylim(0, 1.2 * max(day_churn_songs))\n",
    "plt.xlabel(\"Day\")\n",
    "plt.ylabel(\"Average Songs Played Per User per Day\")\n",
    "plt.legend(['Churn', 'No_Churn']);"
   ]
  },
  {
   "cell_type": "markdown",
   "metadata": {},
   "source": [
    "## Number of Cancellations per Day in a Month"
   ]
  },
  {
   "cell_type": "code",
   "execution_count": 55,
   "metadata": {},
   "outputs": [],
   "source": [
    "cancel_day =churn_pop.filter(churn_pop.churn==1)\\\n",
    "            .select('userId','hour','day', 'month')\\\n",
    "            .groupBy('day')\\\n",
    "            .agg({'day':'count'})\\\n",
    "            .orderBy(churn_pop.day)"
   ]
  },
  {
   "cell_type": "code",
   "execution_count": 56,
   "metadata": {},
   "outputs": [
    {
     "data": {
      "image/png": "[encoded data removed]",
      "text/plain": [
       "<matplotlib.figure.Figure at 0x7fa409ccc160>"
      ]
     },
     "metadata": {
      "needs_background": "light"
     },
     "output_type": "display_data"
    }
   ],
   "source": [
    "cancel_day_df =cancel_day.toPandas()\n",
    "\n",
    "plt.plot(cancel_day_df.day, cancel_day_df['count(day)'])\n",
    "plt.xlim(-1,31)\n",
    "plt.xlabel('Day of the Month')\n",
    "plt.ylabel('# of Cancellations');"
   ]
  },
  {
   "cell_type": "markdown",
   "metadata": {},
   "source": [
    "## Cancellations for a given hour"
   ]
  },
  {
   "cell_type": "code",
   "execution_count": 57,
   "metadata": {},
   "outputs": [],
   "source": [
    "cancel_hour =churn_pop.filter(churn_pop.churn==1)\\\n",
    "            .select('userId','hour','day', 'month')\\\n",
    "            .groupBy('hour')\\\n",
    "            .agg({'hour':'count'})\\\n",
    "            .orderBy(churn_pop.hour)"
   ]
  },
  {
   "cell_type": "code",
   "execution_count": 58,
   "metadata": {},
   "outputs": [
    {
     "data": {
      "image/png": "[encoded data removed]",
      "text/plain": [
       "<matplotlib.figure.Figure at 0x7fa409cb4b38>"
      ]
     },
     "metadata": {
      "needs_background": "light"
     },
     "output_type": "display_data"
    }
   ],
   "source": [
    "cancel_hour_df =cancel_hour.toPandas()\n",
    "plt.plot(cancel_hour_df.hour, cancel_hour_df['count(hour)'])\n",
    "plt.xlim(-1,24)\n",
    "plt.xlabel('Hour of the Day')\n",
    "plt.ylabel('# of Cancellations');"
   ]
  },
  {
   "cell_type": "markdown",
   "metadata": {},
   "source": [
    "## Number of cancellations per month"
   ]
  },
  {
   "cell_type": "code",
   "execution_count": 59,
   "metadata": {},
   "outputs": [
    {
     "name": "stdout",
     "output_type": "stream",
     "text": [
      "+-----+------------+\n",
      "|month|count(month)|\n",
      "+-----+------------+\n",
      "|   10|          30|\n",
      "|   11|          22|\n",
      "+-----+------------+\n",
      "\n"
     ]
    }
   ],
   "source": [
    "cancel_month =churn_pop.filter(churn_pop.churn==1)\\\n",
    "            .select('userId','hour','day', 'month')\\\n",
    "            .groupBy('month')\\\n",
    "            .agg({'month':'count'})\\\n",
    "            .orderBy(churn_pop.month)\n",
    "\n",
    "cancel_month.show()"
   ]
  },
  {
   "cell_type": "markdown",
   "metadata": {},
   "source": [
    "## Number of days between 1st song played and cancellation (churn users)"
   ]
  },
  {
   "cell_type": "code",
   "execution_count": 60,
   "metadata": {},
   "outputs": [],
   "source": [
    "#Determine users first date in Sparkify (equal to last timestamp in system)\n",
    "min_churn_ts=churn_pop.select('userId', 'ts')\\\n",
    "            .groupBy('userId')\\\n",
    "            .min('ts')\n",
    "\n",
    "#Determine users last date in Sparkify (equal to last timestamp in system)\n",
    "max_churn_ts=churn_pop.select('userId', 'ts')\\\n",
    "            .groupBy('userId')\\\n",
    "            .max('ts')\n"
   ]
  },
  {
   "cell_type": "code",
   "execution_count": 61,
   "metadata": {},
   "outputs": [],
   "source": [
    "#Calculate the difference between first and last dates in Sparkify\n",
    "min_churn_ts=min_churn_ts.withColumn('startDate', get_date('min(ts)'))\n",
    "churn_ts=min_churn_ts.join(max_churn_ts, max_churn_ts.userId ==min_churn_ts.userId)\n",
    "churn_ts=churn_ts.withColumn('lastDate', get_date('max(ts)'))\\\n",
    "                    .withColumn('daysInSparkify', datediff(col('lastDate'),col('startDate')))\n"
   ]
  },
  {
   "cell_type": "markdown",
   "metadata": {},
   "source": [
    "## Number of days between 1st song played and last song played (no_churn users)"
   ]
  },
  {
   "cell_type": "code",
   "execution_count": 62,
   "metadata": {},
   "outputs": [],
   "source": [
    "#Determine users first date in Sparkify (equal to first timestamp in system)\n",
    "min_no_churn_ts=no_churn_pop.select('userId', 'ts')\\\n",
    "            .groupBy('userId')\\\n",
    "            .min('ts')\n",
    "\n",
    "#Determine users last date in Sparkify (equal to last timestamp in system)\n",
    "max_no_churn_ts=no_churn_pop.select('userId', 'ts')\\\n",
    "            .groupBy('userId')\\\n",
    "            .max('ts')\n"
   ]
  },
  {
   "cell_type": "code",
   "execution_count": 63,
   "metadata": {},
   "outputs": [],
   "source": [
    "#Calculate the difference between first and last dates in Sparkify\n",
    "min_no_churn_ts=min_no_churn_ts.withColumn('startDate', get_date('min(ts)'))\n",
    "no_churn_ts=min_no_churn_ts.join(max_no_churn_ts, max_no_churn_ts.userId ==min_no_churn_ts.userId)\n",
    "no_churn_ts=no_churn_ts.withColumn('lastDate', get_date('max(ts)'))\\\n",
    "                    .withColumn('daysInSparkify', datediff(col('lastDate'),col('startDate')))\n"
   ]
  },
  {
   "cell_type": "code",
   "execution_count": 64,
   "metadata": {},
   "outputs": [
    {
     "data": {
      "image/png": "[encoded data removed]",
      "text/plain": [
       "<matplotlib.figure.Figure at 0x7fa409bd3828>"
      ]
     },
     "metadata": {
      "needs_background": "light"
     },
     "output_type": "display_data"
    }
   ],
   "source": [
    "#plot the number of days churn users are in the Sparkify app\n",
    "churn_ts_df=churn_ts.toPandas()\n",
    "no_churn_ts_df= no_churn_ts.toPandas()\n",
    "\n",
    "plt.hist(no_churn_ts_df['daysInSparkify']),\n",
    "plt.hist(churn_ts_df['daysInSparkify'])\n",
    "\n",
    "plt.xlabel('Days in Sparkify before Churn')\n",
    "plt.ylabel('Frequency')\n",
    "plt.legend(['No_Churn', 'Churn']);"
   ]
  },
  {
   "cell_type": "markdown",
   "metadata": {},
   "source": [
    "# Feature Engineering\n",
    "Once you've familiarized yourself with the data, build out the features you find promising to train your model on. To work with the full dataset, you can follow the following steps.\n",
    "- Write a script to extract the necessary features from the smaller subset of data\n",
    "- Ensure that your script is scalable, using the best practices discussed in Lesson 3\n",
    "- Try your script on the full data set, debugging your script if necessary\n",
    "\n",
    "If you are working in the classroom workspace, you can just extract features based on the small subset of data contained here. Be sure to transfer over this work to the larger dataset when you work on your Spark cluster."
   ]
  },
  {
   "cell_type": "markdown",
   "metadata": {},
   "source": [
    "## Initial Base Model dataset"
   ]
  },
  {
   "cell_type": "markdown",
   "metadata": {},
   "source": [
    "I want to use gender as a feature in our model so we will use StringIndexer to encode the binary variables.  Female = 0, Male =1"
   ]
  },
  {
   "cell_type": "code",
   "execution_count": 65,
   "metadata": {},
   "outputs": [],
   "source": [
    "from pyspark.ml.feature import StringIndexer"
   ]
  },
  {
   "cell_type": "code",
   "execution_count": 66,
   "metadata": {},
   "outputs": [
    {
     "name": "stdout",
     "output_type": "stream",
     "text": [
      "+----------+---------+---------+------+-------------+---------+---------+-----+--------------------+------+--------+-------------+---------+-----------+------+-------------+--------------------+------+-----+-----+----+---+-----+----------+--------------+\n",
      "|    artist|     auth|firstName|gender|itemInSession| lastName|   length|level|            location|method|    page| registration|sessionId|       song|status|           ts|           userAgent|userId|churn|phase|hour|day|month|      date|gender_encoded|\n",
      "+----------+---------+---------+------+-------------+---------+---------+-----+--------------------+------+--------+-------------+---------+-----------+------+-------------+--------------------+------+-----+-----+----+---+-----+----------+--------------+\n",
      "|      null|Logged In| Darianna|     F|           34|Carpenter|     null| free|Bridgeport-Stamfo...|   PUT|  Logout|1538016340000|      187|       null|   307|1542823952000|\"Mozilla/5.0 (iPh...|100010|    0|    0|  18| 21|   11|2018-11-21|           0.0|\n",
      "|Lily Allen|Logged In| Darianna|     F|           33|Carpenter|185.25995| free|Bridgeport-Stamfo...|   PUT|NextSong|1538016340000|      187|         22|   200|1542823951000|\"Mozilla/5.0 (iPh...|100010|    0|    0|  18| 21|   11|2018-11-21|           0.0|\n",
      "|John Waite|Logged In| Darianna|     F|           32|Carpenter|269.76608| free|Bridgeport-Stamfo...|   PUT|NextSong|1538016340000|      187|Missing You|   200|1542823682000|\"Mozilla/5.0 (iPh...|100010|    0|    0|  18| 21|   11|2018-11-21|           0.0|\n",
      "+----------+---------+---------+------+-------------+---------+---------+-----+--------------------+------+--------+-------------+---------+-----------+------+-------------+--------------------+------+-----+-----+----+---+-----+----------+--------------+\n",
      "only showing top 3 rows\n",
      "\n"
     ]
    }
   ],
   "source": [
    "gender_indexer = StringIndexer(inputCol=\"gender\", outputCol=\"gender_encoded\")\n",
    "gen_indexed = gender_indexer.fit(mini_valid).transform(mini_valid)\n",
    "gen_indexed.show(3)"
   ]
  },
  {
   "cell_type": "code",
   "execution_count": 67,
   "metadata": {},
   "outputs": [],
   "source": [
    "model_df = gen_indexed.groupBy('userId').agg({'song':'count','phase':'avg', 'gender_encoded':'avg','length':'avg' })"
   ]
  },
  {
   "cell_type": "markdown",
   "metadata": {},
   "source": [
    "## Add total days in Sparkify (daysInSparkify) as a column to the model dataset"
   ]
  },
  {
   "cell_type": "code",
   "execution_count": 68,
   "metadata": {},
   "outputs": [],
   "source": [
    "#Total days for each user in the churn group\n",
    "days_in_Sparkify_churn = churn_ts.toPandas()"
   ]
  },
  {
   "cell_type": "code",
   "execution_count": 69,
   "metadata": {},
   "outputs": [],
   "source": [
    "#Rename columns and delete redundant columns\n",
    "days_in_Sparkify_churn.columns= ['userId', 'min_ts','startDate', 'falseCat', 'max_ts', 'lastDate', 'daysInSparkify']\n",
    "del days_in_Sparkify_churn['falseCat']"
   ]
  },
  {
   "cell_type": "code",
   "execution_count": 70,
   "metadata": {},
   "outputs": [],
   "source": [
    "#Total days for each user in the no_churn group\n",
    "days_in_Sparkify_no_churn = no_churn_ts.toPandas()"
   ]
  },
  {
   "cell_type": "code",
   "execution_count": 71,
   "metadata": {},
   "outputs": [],
   "source": [
    "#Rename columns and delete redundant columns\n",
    "days_in_Sparkify_no_churn.columns= ['userId', 'min_ts','startDate', 'falseCat', 'max_ts', 'lastDate', 'daysInSparkify']\n",
    "del days_in_Sparkify_no_churn['falseCat']"
   ]
  },
  {
   "cell_type": "code",
   "execution_count": 72,
   "metadata": {},
   "outputs": [],
   "source": [
    "#Combine the count of daysInSparkify dataframes for churn and no_churn users\n",
    "sparky_days =days_in_Sparkify_no_churn.append(days_in_Sparkify_churn)"
   ]
  },
  {
   "cell_type": "code",
   "execution_count": 73,
   "metadata": {},
   "outputs": [
    {
     "data": {
      "text/html": [
       "<div>\n",
       "<style scoped>\n",
       "    .dataframe tbody tr th:only-of-type {\n",
       "        vertical-align: middle;\n",
       "    }\n",
       "\n",
       "    .dataframe tbody tr th {\n",
       "        vertical-align: top;\n",
       "    }\n",
       "\n",
       "    .dataframe thead th {\n",
       "        text-align: right;\n",
       "    }\n",
       "</style>\n",
       "<table border=\"1\" class=\"dataframe\">\n",
       "  <thead>\n",
       "    <tr style=\"text-align: right;\">\n",
       "      <th></th>\n",
       "      <th>userId</th>\n",
       "      <th>daysInSparkify</th>\n",
       "    </tr>\n",
       "  </thead>\n",
       "  <tbody>\n",
       "    <tr>\n",
       "      <th>0</th>\n",
       "      <td>100010</td>\n",
       "      <td>44</td>\n",
       "    </tr>\n",
       "    <tr>\n",
       "      <th>1</th>\n",
       "      <td>200002</td>\n",
       "      <td>45</td>\n",
       "    </tr>\n",
       "    <tr>\n",
       "      <th>2</th>\n",
       "      <td>124</td>\n",
       "      <td>60</td>\n",
       "    </tr>\n",
       "    <tr>\n",
       "      <th>3</th>\n",
       "      <td>7</td>\n",
       "      <td>51</td>\n",
       "    </tr>\n",
       "    <tr>\n",
       "      <th>4</th>\n",
       "      <td>15</td>\n",
       "      <td>55</td>\n",
       "    </tr>\n",
       "  </tbody>\n",
       "</table>\n",
       "</div>"
      ],
      "text/plain": [
       "   userId  daysInSparkify\n",
       "0  100010              44\n",
       "1  200002              45\n",
       "2     124              60\n",
       "3       7              51\n",
       "4      15              55"
      ]
     },
     "execution_count": 73,
     "metadata": {},
     "output_type": "execute_result"
    }
   ],
   "source": [
    "#Only keep relevant columns to append to the model dataset\n",
    "sparky_days = sparky_days[['userId','daysInSparkify']]\n",
    "sparky_days.head()"
   ]
  },
  {
   "cell_type": "markdown",
   "metadata": {},
   "source": [
    "## Join daysInSparkify to model_df (once converted to a pandas df)"
   ]
  },
  {
   "cell_type": "code",
   "execution_count": 74,
   "metadata": {},
   "outputs": [],
   "source": [
    "#Convert the odel dataframe (model_df) to a pandas dataframe to facilitate adding additonal relevant columns\n",
    "model_df_pd=model_df.toPandas()"
   ]
  },
  {
   "cell_type": "code",
   "execution_count": 75,
   "metadata": {},
   "outputs": [],
   "source": [
    "#Merge the model dataset to include the number of days a user has been part Sparkify\n",
    "model_df_pd=model_df_pd.merge(sparky_days, on= 'userId')"
   ]
  },
  {
   "cell_type": "code",
   "execution_count": 76,
   "metadata": {},
   "outputs": [
    {
     "data": {
      "text/html": [
       "<div>\n",
       "<style scoped>\n",
       "    .dataframe tbody tr th:only-of-type {\n",
       "        vertical-align: middle;\n",
       "    }\n",
       "\n",
       "    .dataframe tbody tr th {\n",
       "        vertical-align: top;\n",
       "    }\n",
       "\n",
       "    .dataframe thead th {\n",
       "        text-align: right;\n",
       "    }\n",
       "</style>\n",
       "<table border=\"1\" class=\"dataframe\">\n",
       "  <thead>\n",
       "    <tr style=\"text-align: right;\">\n",
       "      <th></th>\n",
       "      <th>userId</th>\n",
       "      <th>count(song)</th>\n",
       "      <th>avg(phase)</th>\n",
       "      <th>avg(length)</th>\n",
       "      <th>avg(gender_encoded)</th>\n",
       "      <th>daysInSparkify</th>\n",
       "    </tr>\n",
       "  </thead>\n",
       "  <tbody>\n",
       "    <tr>\n",
       "      <th>0</th>\n",
       "      <td>100010</td>\n",
       "      <td>275</td>\n",
       "      <td>0.0</td>\n",
       "      <td>243.421445</td>\n",
       "      <td>0.0</td>\n",
       "      <td>44</td>\n",
       "    </tr>\n",
       "    <tr>\n",
       "      <th>1</th>\n",
       "      <td>200002</td>\n",
       "      <td>387</td>\n",
       "      <td>0.0</td>\n",
       "      <td>242.916992</td>\n",
       "      <td>1.0</td>\n",
       "      <td>45</td>\n",
       "    </tr>\n",
       "    <tr>\n",
       "      <th>2</th>\n",
       "      <td>125</td>\n",
       "      <td>8</td>\n",
       "      <td>1.0</td>\n",
       "      <td>261.139138</td>\n",
       "      <td>1.0</td>\n",
       "      <td>0</td>\n",
       "    </tr>\n",
       "    <tr>\n",
       "      <th>3</th>\n",
       "      <td>124</td>\n",
       "      <td>4079</td>\n",
       "      <td>0.0</td>\n",
       "      <td>248.176537</td>\n",
       "      <td>0.0</td>\n",
       "      <td>60</td>\n",
       "    </tr>\n",
       "    <tr>\n",
       "      <th>4</th>\n",
       "      <td>51</td>\n",
       "      <td>2111</td>\n",
       "      <td>1.0</td>\n",
       "      <td>247.880551</td>\n",
       "      <td>1.0</td>\n",
       "      <td>16</td>\n",
       "    </tr>\n",
       "  </tbody>\n",
       "</table>\n",
       "</div>"
      ],
      "text/plain": [
       "   userId  count(song)  avg(phase)  avg(length)  avg(gender_encoded)  \\\n",
       "0  100010          275         0.0   243.421445                  0.0   \n",
       "1  200002          387         0.0   242.916992                  1.0   \n",
       "2     125            8         1.0   261.139138                  1.0   \n",
       "3     124         4079         0.0   248.176537                  0.0   \n",
       "4      51         2111         1.0   247.880551                  1.0   \n",
       "\n",
       "   daysInSparkify  \n",
       "0              44  \n",
       "1              45  \n",
       "2               0  \n",
       "3              60  \n",
       "4              16  "
      ]
     },
     "execution_count": 76,
     "metadata": {},
     "output_type": "execute_result"
    }
   ],
   "source": [
    "model_df_pd.head()"
   ]
  },
  {
   "cell_type": "code",
   "execution_count": 77,
   "metadata": {},
   "outputs": [],
   "source": [
    "#Rename columns for clarity\n",
    "model_df_pd.columns = ['userId', 'total_song_count', 'phase', 'avg_length', 'gender','daysInSparkify' ]"
   ]
  },
  {
   "cell_type": "code",
   "execution_count": 78,
   "metadata": {},
   "outputs": [
    {
     "data": {
      "text/html": [
       "<div>\n",
       "<style scoped>\n",
       "    .dataframe tbody tr th:only-of-type {\n",
       "        vertical-align: middle;\n",
       "    }\n",
       "\n",
       "    .dataframe tbody tr th {\n",
       "        vertical-align: top;\n",
       "    }\n",
       "\n",
       "    .dataframe thead th {\n",
       "        text-align: right;\n",
       "    }\n",
       "</style>\n",
       "<table border=\"1\" class=\"dataframe\">\n",
       "  <thead>\n",
       "    <tr style=\"text-align: right;\">\n",
       "      <th></th>\n",
       "      <th>userId</th>\n",
       "      <th>total_song_count</th>\n",
       "      <th>phase</th>\n",
       "      <th>avg_length</th>\n",
       "      <th>gender</th>\n",
       "      <th>daysInSparkify</th>\n",
       "    </tr>\n",
       "  </thead>\n",
       "  <tbody>\n",
       "    <tr>\n",
       "      <th>0</th>\n",
       "      <td>100010</td>\n",
       "      <td>275</td>\n",
       "      <td>0.0</td>\n",
       "      <td>243.421445</td>\n",
       "      <td>0.0</td>\n",
       "      <td>44</td>\n",
       "    </tr>\n",
       "    <tr>\n",
       "      <th>1</th>\n",
       "      <td>200002</td>\n",
       "      <td>387</td>\n",
       "      <td>0.0</td>\n",
       "      <td>242.916992</td>\n",
       "      <td>1.0</td>\n",
       "      <td>45</td>\n",
       "    </tr>\n",
       "    <tr>\n",
       "      <th>2</th>\n",
       "      <td>125</td>\n",
       "      <td>8</td>\n",
       "      <td>1.0</td>\n",
       "      <td>261.139138</td>\n",
       "      <td>1.0</td>\n",
       "      <td>0</td>\n",
       "    </tr>\n",
       "    <tr>\n",
       "      <th>3</th>\n",
       "      <td>124</td>\n",
       "      <td>4079</td>\n",
       "      <td>0.0</td>\n",
       "      <td>248.176537</td>\n",
       "      <td>0.0</td>\n",
       "      <td>60</td>\n",
       "    </tr>\n",
       "    <tr>\n",
       "      <th>4</th>\n",
       "      <td>51</td>\n",
       "      <td>2111</td>\n",
       "      <td>1.0</td>\n",
       "      <td>247.880551</td>\n",
       "      <td>1.0</td>\n",
       "      <td>16</td>\n",
       "    </tr>\n",
       "  </tbody>\n",
       "</table>\n",
       "</div>"
      ],
      "text/plain": [
       "   userId  total_song_count  phase  avg_length  gender  daysInSparkify\n",
       "0  100010               275    0.0  243.421445     0.0              44\n",
       "1  200002               387    0.0  242.916992     1.0              45\n",
       "2     125                 8    1.0  261.139138     1.0               0\n",
       "3     124              4079    0.0  248.176537     0.0              60\n",
       "4      51              2111    1.0  247.880551     1.0              16"
      ]
     },
     "execution_count": 78,
     "metadata": {},
     "output_type": "execute_result"
    }
   ],
   "source": [
    "model_df_pd.head()"
   ]
  },
  {
   "cell_type": "markdown",
   "metadata": {},
   "source": [
    "## Add average songs played per day per user as a column to the model dataset"
   ]
  },
  {
   "cell_type": "code",
   "execution_count": 79,
   "metadata": {},
   "outputs": [],
   "source": [
    "#Avg daily songs played each user in the churn group\n",
    "avg_daily_songs = mini_valid.filter(mini_valid.page == 'NextSong')\\\n",
    "                    .select('userId', 'date','day', 'page')\\\n",
    "                    .groupBy('userId','date','day')\\\n",
    "                    .agg({'page':'count'})\\\n",
    "                    .groupBy('userId', 'day')\\\n",
    "                    .agg({'count(page)':'avg'})\\\n",
    "                    .groupBy('userId')\\\n",
    "                    .agg({'avg(count(page))': 'avg'}).toPandas()"
   ]
  },
  {
   "cell_type": "code",
   "execution_count": 80,
   "metadata": {},
   "outputs": [
    {
     "data": {
      "text/html": [
       "<div>\n",
       "<style scoped>\n",
       "    .dataframe tbody tr th:only-of-type {\n",
       "        vertical-align: middle;\n",
       "    }\n",
       "\n",
       "    .dataframe tbody tr th {\n",
       "        vertical-align: top;\n",
       "    }\n",
       "\n",
       "    .dataframe thead th {\n",
       "        text-align: right;\n",
       "    }\n",
       "</style>\n",
       "<table border=\"1\" class=\"dataframe\">\n",
       "  <thead>\n",
       "    <tr style=\"text-align: right;\">\n",
       "      <th></th>\n",
       "      <th>userId</th>\n",
       "      <th>avg(avg(count(page)))</th>\n",
       "    </tr>\n",
       "  </thead>\n",
       "  <tbody>\n",
       "    <tr>\n",
       "      <th>0</th>\n",
       "      <td>100010</td>\n",
       "      <td>39.285714</td>\n",
       "    </tr>\n",
       "    <tr>\n",
       "      <th>1</th>\n",
       "      <td>200002</td>\n",
       "      <td>55.285714</td>\n",
       "    </tr>\n",
       "    <tr>\n",
       "      <th>2</th>\n",
       "      <td>125</td>\n",
       "      <td>8.000000</td>\n",
       "    </tr>\n",
       "    <tr>\n",
       "      <th>3</th>\n",
       "      <td>124</td>\n",
       "      <td>134.980000</td>\n",
       "    </tr>\n",
       "    <tr>\n",
       "      <th>4</th>\n",
       "      <td>51</td>\n",
       "      <td>162.384615</td>\n",
       "    </tr>\n",
       "  </tbody>\n",
       "</table>\n",
       "</div>"
      ],
      "text/plain": [
       "   userId  avg(avg(count(page)))\n",
       "0  100010              39.285714\n",
       "1  200002              55.285714\n",
       "2     125               8.000000\n",
       "3     124             134.980000\n",
       "4      51             162.384615"
      ]
     },
     "execution_count": 80,
     "metadata": {},
     "output_type": "execute_result"
    }
   ],
   "source": [
    "avg_daily_songs.head()"
   ]
  },
  {
   "cell_type": "code",
   "execution_count": 81,
   "metadata": {},
   "outputs": [
    {
     "data": {
      "text/html": [
       "<div>\n",
       "<style scoped>\n",
       "    .dataframe tbody tr th:only-of-type {\n",
       "        vertical-align: middle;\n",
       "    }\n",
       "\n",
       "    .dataframe tbody tr th {\n",
       "        vertical-align: top;\n",
       "    }\n",
       "\n",
       "    .dataframe thead th {\n",
       "        text-align: right;\n",
       "    }\n",
       "</style>\n",
       "<table border=\"1\" class=\"dataframe\">\n",
       "  <thead>\n",
       "    <tr style=\"text-align: right;\">\n",
       "      <th></th>\n",
       "      <th>userId</th>\n",
       "      <th>avg_daily_songs</th>\n",
       "    </tr>\n",
       "  </thead>\n",
       "  <tbody>\n",
       "    <tr>\n",
       "      <th>0</th>\n",
       "      <td>100010</td>\n",
       "      <td>39.285714</td>\n",
       "    </tr>\n",
       "    <tr>\n",
       "      <th>1</th>\n",
       "      <td>200002</td>\n",
       "      <td>55.285714</td>\n",
       "    </tr>\n",
       "    <tr>\n",
       "      <th>2</th>\n",
       "      <td>125</td>\n",
       "      <td>8.000000</td>\n",
       "    </tr>\n",
       "    <tr>\n",
       "      <th>3</th>\n",
       "      <td>124</td>\n",
       "      <td>134.980000</td>\n",
       "    </tr>\n",
       "    <tr>\n",
       "      <th>4</th>\n",
       "      <td>51</td>\n",
       "      <td>162.384615</td>\n",
       "    </tr>\n",
       "  </tbody>\n",
       "</table>\n",
       "</div>"
      ],
      "text/plain": [
       "   userId  avg_daily_songs\n",
       "0  100010        39.285714\n",
       "1  200002        55.285714\n",
       "2     125         8.000000\n",
       "3     124       134.980000\n",
       "4      51       162.384615"
      ]
     },
     "execution_count": 81,
     "metadata": {},
     "output_type": "execute_result"
    }
   ],
   "source": [
    "avg_daily_songs.columns = ['userId', 'avg_daily_songs']\n",
    "avg_daily_songs.head()"
   ]
  },
  {
   "cell_type": "code",
   "execution_count": 82,
   "metadata": {},
   "outputs": [],
   "source": [
    "#Add column for average daily songs played by each user\n",
    "model_df_pd= model_df_pd.merge(avg_daily_songs, on='userId')\n"
   ]
  },
  {
   "cell_type": "code",
   "execution_count": 83,
   "metadata": {},
   "outputs": [],
   "source": [
    "#Add column that calculates per day user song count based on the number of days in Sparkify\n",
    "model_df_pd['songs_per_day'] = model_df_pd.total_song_count/(model_df_pd.daysInSparkify+1)\n"
   ]
  },
  {
   "cell_type": "code",
   "execution_count": 84,
   "metadata": {},
   "outputs": [
    {
     "data": {
      "text/html": [
       "<div>\n",
       "<style scoped>\n",
       "    .dataframe tbody tr th:only-of-type {\n",
       "        vertical-align: middle;\n",
       "    }\n",
       "\n",
       "    .dataframe tbody tr th {\n",
       "        vertical-align: top;\n",
       "    }\n",
       "\n",
       "    .dataframe thead th {\n",
       "        text-align: right;\n",
       "    }\n",
       "</style>\n",
       "<table border=\"1\" class=\"dataframe\">\n",
       "  <thead>\n",
       "    <tr style=\"text-align: right;\">\n",
       "      <th></th>\n",
       "      <th>userId</th>\n",
       "      <th>total_song_count</th>\n",
       "      <th>phase</th>\n",
       "      <th>avg_length</th>\n",
       "      <th>gender</th>\n",
       "      <th>daysInSparkify</th>\n",
       "      <th>avg_daily_songs</th>\n",
       "      <th>songs_per_day</th>\n",
       "    </tr>\n",
       "  </thead>\n",
       "  <tbody>\n",
       "    <tr>\n",
       "      <th>0</th>\n",
       "      <td>100010</td>\n",
       "      <td>275</td>\n",
       "      <td>0.0</td>\n",
       "      <td>243.421445</td>\n",
       "      <td>0.0</td>\n",
       "      <td>44</td>\n",
       "      <td>39.285714</td>\n",
       "      <td>6.111111</td>\n",
       "    </tr>\n",
       "    <tr>\n",
       "      <th>1</th>\n",
       "      <td>200002</td>\n",
       "      <td>387</td>\n",
       "      <td>0.0</td>\n",
       "      <td>242.916992</td>\n",
       "      <td>1.0</td>\n",
       "      <td>45</td>\n",
       "      <td>55.285714</td>\n",
       "      <td>8.413043</td>\n",
       "    </tr>\n",
       "    <tr>\n",
       "      <th>2</th>\n",
       "      <td>125</td>\n",
       "      <td>8</td>\n",
       "      <td>1.0</td>\n",
       "      <td>261.139138</td>\n",
       "      <td>1.0</td>\n",
       "      <td>0</td>\n",
       "      <td>8.000000</td>\n",
       "      <td>8.000000</td>\n",
       "    </tr>\n",
       "    <tr>\n",
       "      <th>3</th>\n",
       "      <td>124</td>\n",
       "      <td>4079</td>\n",
       "      <td>0.0</td>\n",
       "      <td>248.176537</td>\n",
       "      <td>0.0</td>\n",
       "      <td>60</td>\n",
       "      <td>134.980000</td>\n",
       "      <td>66.868852</td>\n",
       "    </tr>\n",
       "    <tr>\n",
       "      <th>4</th>\n",
       "      <td>51</td>\n",
       "      <td>2111</td>\n",
       "      <td>1.0</td>\n",
       "      <td>247.880551</td>\n",
       "      <td>1.0</td>\n",
       "      <td>16</td>\n",
       "      <td>162.384615</td>\n",
       "      <td>124.176471</td>\n",
       "    </tr>\n",
       "  </tbody>\n",
       "</table>\n",
       "</div>"
      ],
      "text/plain": [
       "   userId  total_song_count  phase  avg_length  gender  daysInSparkify  \\\n",
       "0  100010               275    0.0  243.421445     0.0              44   \n",
       "1  200002               387    0.0  242.916992     1.0              45   \n",
       "2     125                 8    1.0  261.139138     1.0               0   \n",
       "3     124              4079    0.0  248.176537     0.0              60   \n",
       "4      51              2111    1.0  247.880551     1.0              16   \n",
       "\n",
       "   avg_daily_songs  songs_per_day  \n",
       "0        39.285714       6.111111  \n",
       "1        55.285714       8.413043  \n",
       "2         8.000000       8.000000  \n",
       "3       134.980000      66.868852  \n",
       "4       162.384615     124.176471  "
      ]
     },
     "execution_count": 84,
     "metadata": {},
     "output_type": "execute_result"
    }
   ],
   "source": [
    "model_df_pd.head()"
   ]
  },
  {
   "cell_type": "markdown",
   "metadata": {},
   "source": [
    "## Average songs viewed per hour per user"
   ]
  },
  {
   "cell_type": "code",
   "execution_count": 85,
   "metadata": {},
   "outputs": [],
   "source": [
    "#Determine the average number of songs played per hour for each user\n",
    "songs_per_hour =mini_valid.filter(mini_valid.page == 'NextSong')\\\n",
    "                    .select('userId','date',  'hour', 'page')\\\n",
    "                    .groupBy('userId', 'date', 'hour')\\\n",
    "                    .agg({'page':'count'})\\\n",
    "                    .groupBy('userId','hour')\\\n",
    "                    .agg({'count(page)':'avg'})\\\n",
    "                    .groupBy('userId')\\\n",
    "                    .agg({'avg(count(page))': 'avg'})\\\n",
    "                    .orderBy('userId')\\\n",
    "                    .toPandas()"
   ]
  },
  {
   "cell_type": "code",
   "execution_count": 86,
   "metadata": {},
   "outputs": [
    {
     "data": {
      "text/html": [
       "<div>\n",
       "<style scoped>\n",
       "    .dataframe tbody tr th:only-of-type {\n",
       "        vertical-align: middle;\n",
       "    }\n",
       "\n",
       "    .dataframe tbody tr th {\n",
       "        vertical-align: top;\n",
       "    }\n",
       "\n",
       "    .dataframe thead th {\n",
       "        text-align: right;\n",
       "    }\n",
       "</style>\n",
       "<table border=\"1\" class=\"dataframe\">\n",
       "  <thead>\n",
       "    <tr style=\"text-align: right;\">\n",
       "      <th></th>\n",
       "      <th>userId</th>\n",
       "      <th>songs_per_hour</th>\n",
       "    </tr>\n",
       "  </thead>\n",
       "  <tbody>\n",
       "    <tr>\n",
       "      <th>0</th>\n",
       "      <td>10</td>\n",
       "      <td>13.368056</td>\n",
       "    </tr>\n",
       "    <tr>\n",
       "      <th>1</th>\n",
       "      <td>100</td>\n",
       "      <td>12.401480</td>\n",
       "    </tr>\n",
       "    <tr>\n",
       "      <th>2</th>\n",
       "      <td>100001</td>\n",
       "      <td>9.583333</td>\n",
       "    </tr>\n",
       "    <tr>\n",
       "      <th>3</th>\n",
       "      <td>100002</td>\n",
       "      <td>11.769231</td>\n",
       "    </tr>\n",
       "    <tr>\n",
       "      <th>4</th>\n",
       "      <td>100003</td>\n",
       "      <td>10.875000</td>\n",
       "    </tr>\n",
       "  </tbody>\n",
       "</table>\n",
       "</div>"
      ],
      "text/plain": [
       "   userId  songs_per_hour\n",
       "0      10       13.368056\n",
       "1     100       12.401480\n",
       "2  100001        9.583333\n",
       "3  100002       11.769231\n",
       "4  100003       10.875000"
      ]
     },
     "execution_count": 86,
     "metadata": {},
     "output_type": "execute_result"
    }
   ],
   "source": [
    "#Rename columns for clarity\n",
    "songs_per_hour.columns= ['userId', 'songs_per_hour']\n",
    "songs_per_hour.head()"
   ]
  },
  {
   "cell_type": "code",
   "execution_count": 87,
   "metadata": {},
   "outputs": [],
   "source": [
    "#Merge the model dataset to include the average number of songs a user listened to per hour\n",
    "model_df_pd=model_df_pd.merge(songs_per_hour, on= 'userId')"
   ]
  },
  {
   "cell_type": "code",
   "execution_count": 88,
   "metadata": {},
   "outputs": [
    {
     "data": {
      "text/html": [
       "<div>\n",
       "<style scoped>\n",
       "    .dataframe tbody tr th:only-of-type {\n",
       "        vertical-align: middle;\n",
       "    }\n",
       "\n",
       "    .dataframe tbody tr th {\n",
       "        vertical-align: top;\n",
       "    }\n",
       "\n",
       "    .dataframe thead th {\n",
       "        text-align: right;\n",
       "    }\n",
       "</style>\n",
       "<table border=\"1\" class=\"dataframe\">\n",
       "  <thead>\n",
       "    <tr style=\"text-align: right;\">\n",
       "      <th></th>\n",
       "      <th>userId</th>\n",
       "      <th>total_song_count</th>\n",
       "      <th>phase</th>\n",
       "      <th>avg_length</th>\n",
       "      <th>gender</th>\n",
       "      <th>daysInSparkify</th>\n",
       "      <th>avg_daily_songs</th>\n",
       "      <th>songs_per_day</th>\n",
       "      <th>songs_per_hour</th>\n",
       "    </tr>\n",
       "  </thead>\n",
       "  <tbody>\n",
       "    <tr>\n",
       "      <th>0</th>\n",
       "      <td>100010</td>\n",
       "      <td>275</td>\n",
       "      <td>0.0</td>\n",
       "      <td>243.421445</td>\n",
       "      <td>0.0</td>\n",
       "      <td>44</td>\n",
       "      <td>39.285714</td>\n",
       "      <td>6.111111</td>\n",
       "      <td>10.313725</td>\n",
       "    </tr>\n",
       "    <tr>\n",
       "      <th>1</th>\n",
       "      <td>200002</td>\n",
       "      <td>387</td>\n",
       "      <td>0.0</td>\n",
       "      <td>242.916992</td>\n",
       "      <td>1.0</td>\n",
       "      <td>45</td>\n",
       "      <td>55.285714</td>\n",
       "      <td>8.413043</td>\n",
       "      <td>12.175439</td>\n",
       "    </tr>\n",
       "    <tr>\n",
       "      <th>2</th>\n",
       "      <td>125</td>\n",
       "      <td>8</td>\n",
       "      <td>1.0</td>\n",
       "      <td>261.139138</td>\n",
       "      <td>1.0</td>\n",
       "      <td>0</td>\n",
       "      <td>8.000000</td>\n",
       "      <td>8.000000</td>\n",
       "      <td>8.000000</td>\n",
       "    </tr>\n",
       "    <tr>\n",
       "      <th>3</th>\n",
       "      <td>124</td>\n",
       "      <td>4079</td>\n",
       "      <td>0.0</td>\n",
       "      <td>248.176537</td>\n",
       "      <td>0.0</td>\n",
       "      <td>60</td>\n",
       "      <td>134.980000</td>\n",
       "      <td>66.868852</td>\n",
       "      <td>13.431330</td>\n",
       "    </tr>\n",
       "    <tr>\n",
       "      <th>4</th>\n",
       "      <td>51</td>\n",
       "      <td>2111</td>\n",
       "      <td>1.0</td>\n",
       "      <td>247.880551</td>\n",
       "      <td>1.0</td>\n",
       "      <td>16</td>\n",
       "      <td>162.384615</td>\n",
       "      <td>124.176471</td>\n",
       "      <td>13.483829</td>\n",
       "    </tr>\n",
       "  </tbody>\n",
       "</table>\n",
       "</div>"
      ],
      "text/plain": [
       "   userId  total_song_count  phase  avg_length  gender  daysInSparkify  \\\n",
       "0  100010               275    0.0  243.421445     0.0              44   \n",
       "1  200002               387    0.0  242.916992     1.0              45   \n",
       "2     125                 8    1.0  261.139138     1.0               0   \n",
       "3     124              4079    0.0  248.176537     0.0              60   \n",
       "4      51              2111    1.0  247.880551     1.0              16   \n",
       "\n",
       "   avg_daily_songs  songs_per_day  songs_per_hour  \n",
       "0        39.285714       6.111111       10.313725  \n",
       "1        55.285714       8.413043       12.175439  \n",
       "2         8.000000       8.000000        8.000000  \n",
       "3       134.980000      66.868852       13.431330  \n",
       "4       162.384615     124.176471       13.483829  "
      ]
     },
     "execution_count": 88,
     "metadata": {},
     "output_type": "execute_result"
    }
   ],
   "source": [
    "#set the model dataset index to userId\n",
    "#model_df_pd.set_index('userId')\n",
    "model_df_pd.head()"
   ]
  },
  {
   "cell_type": "markdown",
   "metadata": {},
   "source": [
    "##  Convert dataset back to spark dataframe and normalize the dataset"
   ]
  },
  {
   "cell_type": "code",
   "execution_count": 89,
   "metadata": {},
   "outputs": [],
   "source": [
    "new_df =spark.createDataFrame(model_df_pd)"
   ]
  },
  {
   "cell_type": "code",
   "execution_count": 90,
   "metadata": {},
   "outputs": [],
   "source": [
    "from pyspark.ml.linalg import Vectors\n",
    "from pyspark.ml.feature import VectorAssembler, Normalizer, StandardScaler"
   ]
  },
  {
   "cell_type": "code",
   "execution_count": 91,
   "metadata": {},
   "outputs": [],
   "source": [
    "\n",
    "assembler = VectorAssembler(inputCols= ['total_song_count','avg_length','gender','daysInSparkify','avg_daily_songs','songs_per_day','songs_per_hour'], outputCol='features')\n",
    "new_df= assembler.transform(new_df)"
   ]
  },
  {
   "cell_type": "code",
   "execution_count": 92,
   "metadata": {},
   "outputs": [],
   "source": [
    "scaler = Normalizer(inputCol= 'features', outputCol='scaled_features')\n",
    "new_df = scaler.transform(new_df)"
   ]
  },
  {
   "cell_type": "code",
   "execution_count": 93,
   "metadata": {},
   "outputs": [],
   "source": [
    "std_scaler = StandardScaler(inputCol = 'features', outputCol = 'std_scale_features')\n",
    "new_scaler= std_scaler.fit(new_df)\n",
    "new_df= new_scaler.transform(new_df)"
   ]
  },
  {
   "cell_type": "code",
   "execution_count": 94,
   "metadata": {},
   "outputs": [
    {
     "name": "stdout",
     "output_type": "stream",
     "text": [
      "+------+----------------+-----+----------------+------+--------------+------------------+-----------------+------------------+--------------------+--------------------+--------------------+\n",
      "|userId|total_song_count|phase|      avg_length|gender|daysInSparkify|   avg_daily_songs|    songs_per_day|    songs_per_hour|            features|     scaled_features|  std_scale_features|\n",
      "+------+----------------+-----+----------------+------+--------------+------------------+-----------------+------------------+--------------------+--------------------+--------------------+\n",
      "|100010|             275|  0.0|243.421444909091|   0.0|            44|39.285714285714285|6.111111111111111|10.313725490196077|[275.0,243.421444...|[0.73893210637414...|[0.24887761207221...|\n",
      "+------+----------------+-----+----------------+------+--------------+------------------+-----------------+------------------+--------------------+--------------------+--------------------+\n",
      "only showing top 1 row\n",
      "\n"
     ]
    }
   ],
   "source": [
    "new_df.show(1)"
   ]
  },
  {
   "cell_type": "markdown",
   "metadata": {},
   "source": [
    "# Modeling\n",
    "Split the full dataset into train, test, and validation sets. Test out several of the machine learning methods you learned. Evaluate the accuracy of the various models, tuning parameters as necessary. Determine your winning model based on test accuracy and report results on the validation set. Since the churned users are a fairly small subset, I suggest using F1 score as the metric to optimize."
   ]
  },
  {
   "cell_type": "code",
   "execution_count": 95,
   "metadata": {},
   "outputs": [],
   "source": [
    "from pyspark.ml.classification import LogisticRegression, DecisionTreeClassifier\n",
    "from pyspark.ml.evaluation import MulticlassClassificationEvaluator"
   ]
  },
  {
   "cell_type": "code",
   "execution_count": 96,
   "metadata": {},
   "outputs": [
    {
     "data": {
      "text/plain": [
       "Row(label=0.0, features=DenseVector([0.7389, 0.6541, 0.0, 0.1182, 0.1056, 0.0164, 0.0277]))"
      ]
     },
     "execution_count": 96,
     "metadata": {},
     "output_type": "execute_result"
    }
   ],
   "source": [
    "# Select phase as the target column and use the scaled_features vector\n",
    "data = new_df.select(col('phase').alias('label'), col('scaled_features').alias('features'))\n",
    "data.head()"
   ]
  },
  {
   "cell_type": "code",
   "execution_count": 97,
   "metadata": {},
   "outputs": [],
   "source": [
    "#Split data into training, test and validation\n",
    "training_df, test_df, validation_df = data.randomSplit([.6, .2,.2], 42)"
   ]
  },
  {
   "cell_type": "markdown",
   "metadata": {},
   "source": [
    "## Running a Logistic Regression Model"
   ]
  },
  {
   "cell_type": "code",
   "execution_count": 98,
   "metadata": {},
   "outputs": [],
   "source": [
    "logr= LogisticRegression(maxIter=15)"
   ]
  },
  {
   "cell_type": "code",
   "execution_count": 99,
   "metadata": {},
   "outputs": [],
   "source": [
    "#Train Logistic Regression Model\n",
    "train_model = logr.fit(training_df)"
   ]
  },
  {
   "cell_type": "markdown",
   "metadata": {},
   "source": [
    "### Testing model accuracy"
   ]
  },
  {
   "cell_type": "code",
   "execution_count": 100,
   "metadata": {},
   "outputs": [],
   "source": [
    "modelSummary= train_model.summary"
   ]
  },
  {
   "cell_type": "code",
   "execution_count": 101,
   "metadata": {},
   "outputs": [
    {
     "data": {
      "text/plain": [
       "0.8226950354609929"
      ]
     },
     "execution_count": 101,
     "metadata": {},
     "output_type": "execute_result"
    }
   ],
   "source": [
    "modelSummary.accuracy"
   ]
  },
  {
   "cell_type": "code",
   "execution_count": 102,
   "metadata": {},
   "outputs": [
    {
     "data": {
      "text/plain": [
       "[0.832, 0.75]"
      ]
     },
     "execution_count": 102,
     "metadata": {},
     "output_type": "execute_result"
    }
   ],
   "source": [
    "modelSummary.precisionByLabel"
   ]
  },
  {
   "cell_type": "code",
   "execution_count": 103,
   "metadata": {},
   "outputs": [
    {
     "data": {
      "text/plain": [
       "[0.8927038626609441, 0.48979591836734687]"
      ]
     },
     "execution_count": 103,
     "metadata": {},
     "output_type": "execute_result"
    }
   ],
   "source": [
    "modelSummary.fMeasureByLabel()"
   ]
  },
  {
   "cell_type": "markdown",
   "metadata": {},
   "source": [
    "## Running a DecisionTree Classifier Model"
   ]
  },
  {
   "cell_type": "code",
   "execution_count": 104,
   "metadata": {},
   "outputs": [],
   "source": [
    "#Train Decision Tree Model\n",
    "dtc= DecisionTreeClassifier(labelCol= 'label', featuresCol='features')"
   ]
  },
  {
   "cell_type": "code",
   "execution_count": 105,
   "metadata": {},
   "outputs": [],
   "source": [
    "model =dtc.fit(training_df)"
   ]
  },
  {
   "cell_type": "code",
   "execution_count": 106,
   "metadata": {},
   "outputs": [],
   "source": [
    "#Run predictions on test data\n",
    "predictions = model.transform(test_df)"
   ]
  },
  {
   "cell_type": "code",
   "execution_count": 107,
   "metadata": {},
   "outputs": [
    {
     "name": "stdout",
     "output_type": "stream",
     "text": [
      "+-----+--------------------+-------------+--------------------+----------+\n",
      "|label|            features|rawPrediction|         probability|prediction|\n",
      "+-----+--------------------+-------------+--------------------+----------+\n",
      "|  0.0|[0.01300748108887...|   [65.0,2.0]|[0.97014925373134...|       0.0|\n",
      "+-----+--------------------+-------------+--------------------+----------+\n",
      "only showing top 1 row\n",
      "\n"
     ]
    }
   ],
   "source": [
    "predictions.show(1)"
   ]
  },
  {
   "cell_type": "code",
   "execution_count": 109,
   "metadata": {},
   "outputs": [],
   "source": [
    "#Evaluate model for accuracy on test data\n",
    "evaluator = MulticlassClassificationEvaluator(\n",
    "    labelCol='label', predictionCol='prediction', metricName='accuracy') # taken from pyspark documentation"
   ]
  },
  {
   "cell_type": "code",
   "execution_count": 110,
   "metadata": {},
   "outputs": [
    {
     "data": {
      "text/plain": [
       "0.8461538461538461"
      ]
     },
     "execution_count": 110,
     "metadata": {},
     "output_type": "execute_result"
    }
   ],
   "source": [
    "accuracy = evaluator.evaluate(predictions)\n",
    "accuracy"
   ]
  },
  {
   "cell_type": "code",
   "execution_count": 111,
   "metadata": {},
   "outputs": [],
   "source": [
    "#Evaluate model for accuracy on validation data\n",
    "preds_validation = model.transform(validation_df)"
   ]
  },
  {
   "cell_type": "code",
   "execution_count": 112,
   "metadata": {},
   "outputs": [],
   "source": [
    "evaluator2 = MulticlassClassificationEvaluator(\n",
    "    labelCol='label', predictionCol='preds_prediction', metricName='accuracy')"
   ]
  },
  {
   "cell_type": "code",
   "execution_count": 113,
   "metadata": {},
   "outputs": [
    {
     "data": {
      "text/plain": [
       "0.6875"
      ]
     },
     "execution_count": 113,
     "metadata": {},
     "output_type": "execute_result"
    }
   ],
   "source": [
    "accuracy2 = evaluator.evaluate(preds_validation)\n",
    "accuracy2"
   ]
  },
  {
   "cell_type": "markdown",
   "metadata": {},
   "source": [
    "# Final Steps\n",
    "Clean up your code, adding comments and renaming variables to make the code easier to read and maintain. Refer to the Spark Project Overview page and Data Scientist Capstone Project Rubric to make sure you are including all components of the capstone project and meet all expectations. Remember, this includes thorough documentation in a README file in a Github repository, as well as a web app or blog post."
   ]
  },
  {
   "cell_type": "code",
   "execution_count": null,
   "metadata": {},
   "outputs": [],
   "source": []
  }
 ],
 "metadata": {
  "kernelspec": {
   "display_name": "Python 3",
   "language": "python",
   "name": "python3"
  },
  "language_info": {
   "codemirror_mode": {
    "name": "ipython",
    "version": 3
   },
   "file_extension": ".py",
   "mimetype": "text/x-python",
   "name": "python",
   "nbconvert_exporter": "python",
   "pygments_lexer": "ipython3",
   "version": "3.6.3"
  }
 },
 "nbformat": 4,
 "nbformat_minor": 2
}
